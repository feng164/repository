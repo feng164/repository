{
 "cells": [
  {
   "cell_type": "markdown",
   "id": "51f11d30-73ea-4038-a2e5-acf8881378b7",
   "metadata": {},
   "source": [
    "## Cost Function"
   ]
  },
  {
   "cell_type": "code",
   "execution_count": 1,
   "id": "ce683133-c648-4784-ba89-451b98fbfa7a",
   "metadata": {
    "ExecuteTime": {
     "end_time": "2025-02-26T16:38:52.681017Z",
     "start_time": "2025-02-26T16:38:52.668156Z"
    }
   },
   "outputs": [],
   "source": [
    "import numpy as np\n",
    "import matplotlib.pyplot as plt"
   ]
  },
  {
   "cell_type": "markdown",
   "id": "bfbbb0e8-70bb-4051-9eba-69ea83f07803",
   "metadata": {},
   "source": [
    "## 构建一个模型，能够根据房屋的面积预测房价。  继续使用之前的两个数据点：一套面积为1000平方英尺的房子售价为30万美元，一套面积为2000平方英尺的房子售价为50万美元。\n",
    "\n",
    "| 面积（1000平方英尺） | 价格（以千美元为单位） |\n",
    "|-------------------|------------------------|\n",
    "| 1                 | 300                    |\n",
    "| 2                 | 500                    |\n"
   ]
  },
  {
   "cell_type": "code",
   "execution_count": 2,
   "id": "1e1000cd-3f85-4bbb-8fea-2bc951c6aab9",
   "metadata": {
    "ExecuteTime": {
     "end_time": "2025-02-26T16:34:15.585399Z",
     "start_time": "2025-02-26T16:34:15.581929Z"
    }
   },
   "outputs": [
    {
     "name": "stdout",
     "output_type": "stream",
     "text": [
      "x_train:[1. 2.] y_train:[300. 500.]\n"
     ]
    }
   ],
   "source": [
    "x_train = np.array([1.0, 2.0])           \n",
    "y_train = np.array([300.0, 500.0]) \n",
    "print(f\"x_train:{x_train} y_train:{y_train}\")"
   ]
  },
  {
   "cell_type": "markdown",
   "id": "da386b0b-3fce-4bb4-b7a9-5229608c4883",
   "metadata": {},
   "source": [
    "- \\($f_{w,b}(x^{(i)})$) 是使用参数 \\(w\\) 和 \\(b\\) 对第 \\(i\\) 个样本的预测值。  \n",
    "- \\($(f_{w,b}(x^{(i)}) - y^{(i)})^2$) 是目标值和预测值之间的平方差。  \n",
    "- 这些差值会针对所有 \\(m\\) 个样本进行求和，并除以 \\(2m\\)，以得到成本 \\(J(w,b)\\)。  "
   ]
  },
  {
   "cell_type": "code",
   "execution_count": 3,
   "id": "6924c2d9-bdfe-4bd8-9683-1db96568e2f2",
   "metadata": {
    "ExecuteTime": {
     "end_time": "2025-02-26T16:34:15.593314Z",
     "start_time": "2025-02-26T16:34:15.585399Z"
    }
   },
   "outputs": [],
   "source": [
    "def compute_cost(x, y, w, b): \n",
    "    m = x.shape[0] #样本的数量\n",
    "    cost_sum = 0 \n",
    "    for i in range(m): \n",
    "        f_wb = w * x[i] + b   \n",
    "        cost = (f_wb - y[i]) ** 2  \n",
    "        cost_sum = cost_sum + cost  \n",
    "    total_cost = (1 / (2 * m)) * cost_sum  \n",
    "    return total_cost"
   ]
  },
  {
   "cell_type": "markdown",
   "id": "bc7d5ef7-5029-4d32-92d3-4dcebf4d8bc5",
   "metadata": {},
   "source": [
    "上面的成本公式（1）表明，如果可以选择 \\(w\\) 和 \\(b\\)，使得预测值 \\($f_{w,b}(x)$) 与目标数据 \\(y\\) 匹配，那么 \\($(f_{w,b}(x^{(i)}) - y^{(i)})^2$) 项将为零，成本也将最小化。\n",
    "\n",
    " \\(b=100\\) 是一个最优解，将 \\(b\\) 设置为100，专注于 \\(w\\)。\n"
   ]
  },
  {
   "cell_type": "code",
   "execution_count": 4,
   "id": "8c6a6f7e-7579-4f63-8fbd-f8b1c4b5603b",
   "metadata": {
    "ExecuteTime": {
     "end_time": "2025-02-26T16:34:15.598577Z",
     "start_time": "2025-02-26T16:34:15.593314Z"
    }
   },
   "outputs": [
    {
     "name": "stdout",
     "output_type": "stream",
     "text": [
      "w=100,cost=12500.0\n",
      "w=150,cost=3125.0\n",
      "w=200,cost=0.0\n",
      "w=250,cost=3125.0\n",
      "w=300,cost=12500.0\n"
     ]
    }
   ],
   "source": [
    "b=100\n",
    "w=100\n",
    "print(f\"w={w},cost={compute_cost(x_train,y_train,w,b)}\")\n",
    "w=150\n",
    "print(f\"w={w},cost={compute_cost(x_train,y_train,w,b)}\")\n",
    "w=200\n",
    "print(f\"w={w},cost={compute_cost(x_train,y_train,w,b)}\")\n",
    "w=250\n",
    "print(f\"w={w},cost={compute_cost(x_train,y_train,w,b)}\")\n",
    "w=300\n",
    "print(f\"w={w},cost={compute_cost(x_train,y_train,w,b)}\")"
   ]
  },
  {
   "cell_type": "markdown",
   "id": "2b6b1144-b5bf-41d3-b662-ac1774ef595d",
   "metadata": {
    "jp-MarkdownHeadingCollapsed": true
   },
   "source": [
    "### 当w=200时cost最小为0"
   ]
  }
 ],
 "metadata": {
  "kernelspec": {
   "display_name": "Python 3 (ipykernel)",
   "language": "python",
   "name": "python3"
  },
  "language_info": {
   "codemirror_mode": {
    "name": "ipython",
    "version": 3
   },
   "file_extension": ".py",
   "mimetype": "text/x-python",
   "name": "python",
   "nbconvert_exporter": "python",
   "pygments_lexer": "ipython3",
   "version": "3.12.7"
  }
 },
 "nbformat": 4,
 "nbformat_minor": 5
}
